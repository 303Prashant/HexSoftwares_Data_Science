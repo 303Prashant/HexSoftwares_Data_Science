{
 "cells": [
  {
   "cell_type": "code",
   "execution_count": 1,
   "metadata": {},
   "outputs": [
    {
     "name": "stdout",
     "output_type": "stream",
     "text": [
      "Collecting tensorboard\n",
      "  Downloading tensorboard-2.17.1-py3-none-any.whl.metadata (1.6 kB)\n",
      "Collecting absl-py>=0.4 (from tensorboard)\n",
      "  Downloading absl_py-2.1.0-py3-none-any.whl.metadata (2.3 kB)\n",
      "Collecting grpcio>=1.48.2 (from tensorboard)\n",
      "  Downloading grpcio-1.66.0-cp312-cp312-win_amd64.whl.metadata (4.0 kB)\n",
      "Collecting markdown>=2.6.8 (from tensorboard)\n",
      "  Downloading Markdown-3.7-py3-none-any.whl.metadata (7.0 kB)\n",
      "Requirement already satisfied: numpy>=1.12.0 in d:\\program files\\python312\\lib\\site-packages (from tensorboard) (1.26.4)\n",
      "Requirement already satisfied: packaging in d:\\program files\\python312\\lib\\site-packages (from tensorboard) (24.1)\n",
      "Collecting protobuf!=4.24.0,>=3.19.6 (from tensorboard)\n",
      "  Downloading protobuf-5.27.3-cp310-abi3-win_amd64.whl.metadata (592 bytes)\n",
      "Requirement already satisfied: setuptools>=41.0.0 in d:\\program files\\python312\\lib\\site-packages (from tensorboard) (71.1.0)\n",
      "Requirement already satisfied: six>1.9 in d:\\program files\\python312\\lib\\site-packages (from tensorboard) (1.16.0)\n",
      "Collecting tensorboard-data-server<0.8.0,>=0.7.0 (from tensorboard)\n",
      "  Downloading tensorboard_data_server-0.7.2-py3-none-any.whl.metadata (1.1 kB)\n",
      "Collecting werkzeug>=1.0.1 (from tensorboard)\n",
      "  Downloading werkzeug-3.0.4-py3-none-any.whl.metadata (3.7 kB)\n",
      "Requirement already satisfied: MarkupSafe>=2.1.1 in d:\\program files\\python312\\lib\\site-packages (from werkzeug>=1.0.1->tensorboard) (2.1.5)\n",
      "Downloading tensorboard-2.17.1-py3-none-any.whl (5.5 MB)\n",
      "   ---------------------------------------- 0.0/5.5 MB ? eta -:--:--\n",
      "   - -------------------------------------- 0.3/5.5 MB ? eta -:--:--\n",
      "   --- ------------------------------------ 0.5/5.5 MB 1.7 MB/s eta 0:00:03\n",
      "   ------- -------------------------------- 1.0/5.5 MB 1.6 MB/s eta 0:00:03\n",
      "   --------- ------------------------------ 1.3/5.5 MB 1.8 MB/s eta 0:00:03\n",
      "   ----------- ---------------------------- 1.6/5.5 MB 1.6 MB/s eta 0:00:03\n",
      "   --------------- ------------------------ 2.1/5.5 MB 1.7 MB/s eta 0:00:03\n",
      "   ----------------- ---------------------- 2.4/5.5 MB 1.7 MB/s eta 0:00:02\n",
      "   ----------------- ---------------------- 2.4/5.5 MB 1.7 MB/s eta 0:00:02\n",
      "   -------------------- ------------------- 2.9/5.5 MB 1.5 MB/s eta 0:00:02\n",
      "   ---------------------- ----------------- 3.1/5.5 MB 1.5 MB/s eta 0:00:02\n",
      "   -------------------------- ------------- 3.7/5.5 MB 1.6 MB/s eta 0:00:02\n",
      "   ---------------------------- ----------- 3.9/5.5 MB 1.6 MB/s eta 0:00:01\n",
      "   ------------------------------ --------- 4.2/5.5 MB 1.6 MB/s eta 0:00:01\n",
      "   ------------------------------------ --- 5.0/5.5 MB 1.7 MB/s eta 0:00:01\n",
      "   -------------------------------------- - 5.2/5.5 MB 1.7 MB/s eta 0:00:01\n",
      "   ---------------------------------------- 5.5/5.5 MB 1.6 MB/s eta 0:00:00\n",
      "Downloading absl_py-2.1.0-py3-none-any.whl (133 kB)\n",
      "Downloading grpcio-1.66.0-cp312-cp312-win_amd64.whl (4.3 MB)\n",
      "   ---------------------------------------- 0.0/4.3 MB ? eta -:--:--\n",
      "   -- ------------------------------------- 0.3/4.3 MB ? eta -:--:--\n",
      "   ---- ----------------------------------- 0.5/4.3 MB 1.9 MB/s eta 0:00:03\n",
      "   ---- ----------------------------------- 0.5/4.3 MB 1.9 MB/s eta 0:00:03\n",
      "   ------- -------------------------------- 0.8/4.3 MB 884.1 kB/s eta 0:00:04\n",
      "   --------- ------------------------------ 1.0/4.3 MB 1.1 MB/s eta 0:00:03\n",
      "   ------------ --------------------------- 1.3/4.3 MB 1.1 MB/s eta 0:00:03\n",
      "   -------------- ------------------------- 1.6/4.3 MB 1.1 MB/s eta 0:00:03\n",
      "   ----------------- ---------------------- 1.8/4.3 MB 1.0 MB/s eta 0:00:03\n",
      "   ------------------- -------------------- 2.1/4.3 MB 1.1 MB/s eta 0:00:02\n",
      "   ---------------------- ----------------- 2.4/4.3 MB 1.1 MB/s eta 0:00:02\n",
      "   ---------------------- ----------------- 2.4/4.3 MB 1.1 MB/s eta 0:00:02\n",
      "   ------------------------ --------------- 2.6/4.3 MB 1.0 MB/s eta 0:00:02\n",
      "   -------------------------- ------------- 2.9/4.3 MB 1.0 MB/s eta 0:00:02\n",
      "   ----------------------------- ---------- 3.1/4.3 MB 1.0 MB/s eta 0:00:02\n",
      "   ----------------------------- ---------- 3.1/4.3 MB 1.0 MB/s eta 0:00:02\n",
      "   ------------------------------- -------- 3.4/4.3 MB 1.0 MB/s eta 0:00:01\n",
      "   ------------------------------- -------- 3.4/4.3 MB 1.0 MB/s eta 0:00:01\n",
      "   ---------------------------------- ----- 3.7/4.3 MB 973.7 kB/s eta 0:00:01\n",
      "   ------------------------------------ --- 3.9/4.3 MB 958.7 kB/s eta 0:00:01\n",
      "   ------------------------------------ --- 3.9/4.3 MB 958.7 kB/s eta 0:00:01\n",
      "   ---------------------------------------- 4.3/4.3 MB 934.0 kB/s eta 0:00:00\n",
      "Downloading Markdown-3.7-py3-none-any.whl (106 kB)\n",
      "Downloading protobuf-5.27.3-cp310-abi3-win_amd64.whl (426 kB)\n",
      "Downloading tensorboard_data_server-0.7.2-py3-none-any.whl (2.4 kB)\n",
      "Downloading werkzeug-3.0.4-py3-none-any.whl (227 kB)\n",
      "Installing collected packages: werkzeug, tensorboard-data-server, protobuf, markdown, grpcio, absl-py, tensorboard\n",
      "Successfully installed absl-py-2.1.0 grpcio-1.66.0 markdown-3.7 protobuf-5.27.3 tensorboard-2.17.1 tensorboard-data-server-0.7.2 werkzeug-3.0.4\n",
      "Note: you may need to restart the kernel to use updated packages.\n"
     ]
    }
   ],
   "source": [
    "pip install tensorboard"
   ]
  },
  {
   "cell_type": "markdown",
   "metadata": {},
   "source": [
    "TensorBoard is used mainly for visualising and analysing machine learning model training and results. It enables you to monitor and measure many aspects of your model's performance over time, including as metrics, loss functions, and gradients. It has an interactive web-based interface that enables interpreting and understanding the behaviour of your models easier."
   ]
  },
  {
   "cell_type": "code",
   "execution_count": 3,
   "metadata": {},
   "outputs": [],
   "source": [
    "import torch\n",
    "from torch.utils.tensorboard import SummaryWriter\n",
    "writer= SummaryWriter()"
   ]
  },
  {
   "cell_type": "markdown",
   "metadata": {},
   "source": [
    "# Log scalar\n",
    "In machine learning, it is important to understand key metrics such as loss and how they change during training. Scalar helps to save the loss value of each training step, or the accuracy after each epoch.\n",
    "Let's use tensorboard to visualize log scalar\n",
    "To log a scalar value, use add_scalar(tag, scalar_value, global_step=None, walltime=None).\n",
    "For example, lets create a simple linear regression training, and log loss value using add_scala"
   ]
  },
  {
   "cell_type": "code",
   "execution_count": 9,
   "metadata": {},
   "outputs": [],
   "source": [
    "x = torch.arange(-5,5,0.1).view(-1,1)\n",
    "y = -5*x +0.1 * torch.randn(x.size())\n",
    "\n",
    "model = torch.nn.Linear(1,1)\n",
    "criterion = torch.nn.MSELoss()\n",
    "optimizer = torch.optim.SGD(model.parameters(),lr=0.1)\n",
    "def train_model(iter):\n",
    "    for epoch in range(iter):\n",
    "        y1 = model(x)\n",
    "        loss = criterion(y1,y)\n",
    "        writer.add_scalar('loss/train',loss,epoch)\n",
    "        optimizer.zero_grad()\n",
    "        loss.backward()\n",
    "        optimizer.step()\n",
    "\n",
    "train_model(10)\n",
    "writer.flush()"
   ]
  },
  {
   "cell_type": "markdown",
   "metadata": {},
   "source": [
    "Hyperparameters are adjustable parameters that let you control the model optimization process.\n",
    "Different hyperparameter values can impact model training and convergence rates (read more_ about hyperparameter tuning)\n",
    "We define the following hyperparameters for training:\n",
    "Number of Epochs - the number times to iterate over the dataset\n",
    "Batch Size - the number of data samples propagated through the network before the parameters are updated\n",
    "Learning Rate - how much to update models parameters at each batch/epoch. Smaller values yield slow learning speed, while large values may result in unpredictable behavior during training.\n",
    "\n",
    "Optimization Loop\n",
    "Once we set our hyperparameters, we can then train and optimize our model with an optimization loop. Each iteration of the optimization loop is called an epoch."
   ]
  },
  {
   "cell_type": "markdown",
   "metadata": {},
   "source": [
    "# Capstone project\n",
    "Click here to download the dataset. \n",
    "The Dataset has images of Natural Scenes around the world. About 5k photos, each sized 150x150, are included in this data and have been organized into 6 categories i.e. {'buildings',' forest', 'glacier', 'mountain', 'sea',' street'}. There are around 3000 images in Train, 1500 in Test, and 500 in Prediction.\n",
    "Given the above multiclass classification dataset, your task is to build a Convolutional Neural Network(CNN) to perform the classification task.\n",
    "Only Use the Train(seg_train) and Test(seg_Test) Datasets!!\n",
    "Preprocessing:-\n",
    "              Resize(64),\n",
    "              Center Crop(64),\n",
    "              To Tensor,\n",
    "              Normalize((0.5,0.5,0.5),(0.5,0.5,0.5), inplace=True\n",
    "Prepare the DataLoader Objects:-  Batch Size for dataLoader = 32\n",
    "Build CNN with following Architecture:\n",
    "              Layer 1: 2D Convolutional (in_channels=3, out_channels=64, kernel_size=3, padding=1, stride=1) \n",
    "              Layer 2: ReLU () -> takes output of layer 1\n",
    "              Layer 3: MaxPool2D(kernel_size=2) -> takes output of layer \n",
    "              Layer 4: 2D Convolutional (in_channels=64, out_channels=128, kernel_size=3, padding=1, stride=1)\n",
    "              Layer 5: ReLU () -> takes output of layer 4\n",
    "              Layer 6: MaxPool2D(kernel_size=2) -> takes output of layer 5\n",
    "              Change the shape of data :  output_layer_6.view(output_layer_6.size(0), -1)\n",
    "              Layer 7: Linear(in_features=128*32*32, out_features=128) -> Takes shape updated input\n",
    "              Layer 8: ReLU() -> takes output of layer 7\n",
    "              Layer 9: Dropout Layer(0.25)\n",
    "              layer 10: Linear(in_features=128, out_features=6)\n",
    "Optimizer :- \"Stochastic Gradient Descent\" (SGD)\n",
    "Loss Funtion :- Cross Entropy Loss\n",
    "Train it for following Epochs :- 2  (if have gpu then 7) \n",
    "NOTE: Calculate and display the loss for every Epoch!\n",
    "OPTIONAL:-\n",
    "              1) Evaluate the model on test data and Calculate Accuracy.\n",
    "              2) Upload the recorded Loss & Accuracy to Tensorboard to visualize it.\n",
    "              3) Create a Graph of your CNN in Tensorboard and check the data flow.\n",
    "              4) Use Pretrained ResNet-18 network to build your Model in following ways:-\n",
    "                             a) Use just architecture of ResNet18 i.e train it from scratch\n",
    "                             b) Use the default pretrained model weights \n",
    "                             c) Train only the Last Fully Connected Layer of ResNet 18\n",
    "                             NOTE :- If you have GPU, you may opt for ResNet34 or ResNet50 as well !!"
   ]
  },
  {
   "cell_type": "code",
   "execution_count": null,
   "metadata": {},
   "outputs": [],
   "source": []
  }
 ],
 "metadata": {
  "kernelspec": {
   "display_name": "Python 3",
   "language": "python",
   "name": "python3"
  },
  "language_info": {
   "codemirror_mode": {
    "name": "ipython",
    "version": 3
   },
   "file_extension": ".py",
   "mimetype": "text/x-python",
   "name": "python",
   "nbconvert_exporter": "python",
   "pygments_lexer": "ipython3",
   "version": "3.12.0"
  }
 },
 "nbformat": 4,
 "nbformat_minor": 2
}
