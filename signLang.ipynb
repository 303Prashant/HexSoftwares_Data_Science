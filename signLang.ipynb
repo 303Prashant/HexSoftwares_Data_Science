{
 "cells": [
  {
   "cell_type": "code",
   "execution_count": 1,
   "metadata": {},
   "outputs": [
    {
     "name": "stdout",
     "output_type": "stream",
     "text": [
      "jai maa\n"
     ]
    }
   ],
   "source": [
    "print('jai maa')"
   ]
  },
  {
   "cell_type": "code",
   "execution_count": 17,
   "metadata": {},
   "outputs": [
    {
     "name": "stdout",
     "output_type": "stream",
     "text": [
      "['0000.mp4', '0001.mp4', '0002.mp4', '0003.mp4', '0004.mp4', '0005.mp4', '0006.mp4', '0007.mp4', '0008.mp4', '0009.mp4', '0010.mp4', '0011.mp4', '0012.mp4', '0013.mp4', '0014.mp4', '0015.mp4', '0016.mp4', '0017.mp4', '0018.mp4', '0019.mp4', '0020.mp4', '0021.mp4', '0022.mp4', '0023.mp4', '0024.mp4', '0025.mp4', '0026.mp4', '0027.mp4', '0028.mp4', '0029.mp4', '0030.mp4', '0031.mp4', '0032.mp4', '0033.mp4', '0034.mp4', '0035.mp4', '0036.mp4', '0037.mp4', '0038.mp4', '0040.mp4', '0041.mp4']\n"
     ]
    }
   ],
   "source": [
    "import numpy as np\n",
    "import pandas as pd\n",
    "import torch\n",
    "import os, cv2\n",
    "import matplotlib.pyplot as plt\n",
    "from torch.utils.data import Dataset, DataLoader\n",
    "import torchvision.transforms as transform\n",
    "# Input data files are available in the read-only \"../input/\" directory\n",
    "\n",
    "directory_path = 'D:\\\\python\\\\python_2\\\\data'   \n",
    "# data_dir = os.listdir(directory_path)\n",
    "# print(data_dir)\n",
    "fake_data = os.listdir(directory_path +'/fake data')\n",
    "real_data = os.listdir(directory_path +'/real data')\n",
    "print(real_data)"
   ]
  },
  {
   "cell_type": "code",
   "execution_count": 16,
   "metadata": {},
   "outputs": [],
   "source": [
    "real_videos = [f for f in os.listdir(directory_path+'/real data') if f.endswith(('.mp4'))]"
   ]
  },
  {
   "cell_type": "code",
   "execution_count": 18,
   "metadata": {},
   "outputs": [],
   "source": [
    "class DeepFakeVideoDataset(Dataset):\n",
    "    def __init__(self, transform=None, frames_per_video=16):\n",
    "        self.real_videos = [f for f in os.listdir(directory_path+'/real data') if f.endswith(('.mp4'))]\n",
    "        self.fake_videos = [f for f in os.listdir(directory_path+'/fake data') if f.endswith(('.mp4'))]\n",
    "        self.transform = transform\n",
    "        self.frames_per_video = frames_per_video\n",
    "        \n",
    "        # Combine videos and create labels (0 for real, 1 for fake)\n",
    "        self.video_files = self.real_videos + self.fake_videos\n",
    "        self.labels = [0] * len(self.real_videos) + [1] * len(self.fake_videos)\n",
    "    \n",
    "    def __len__(self):\n",
    "        return len(self.video_files)\n",
    "    \n",
    "    def __getitem__(self, idx):\n",
    "        video_path = self.video_files[idx]\n",
    "        label = self.labels[idx]\n",
    "        \n",
    "        # Load video and extract frames\n",
    "        cap = cv2.VideoCapture(video_path)\n",
    "        frames = []\n",
    "        count = 0\n",
    "        \n",
    "        while count < self.frames_per_video and cap.isOpened():\n",
    "            ret, frame = cap.read()\n",
    "            if not ret:\n",
    "                break\n",
    "            \n",
    "            # Convert frame to RGB and resize to 224x224\n",
    "            frame = cv2.cvtColor(frame, cv2.COLOR_BGR2RGB)\n",
    "            frame = cv2.resize(frame, (224, 224))\n",
    "            if self.transform:\n",
    "                frame = self.transform(frame)\n",
    "            \n",
    "            frames.append(frame)\n",
    "            count += 1\n",
    "        \n",
    "        cap.release()\n",
    "        \n",
    "        # If the video has fewer frames than required, pad with the last frame\n",
    "        while len(frames) < self.frames_per_video:\n",
    "            frames.append(frames[-1])\n",
    "        \n",
    "        # Stack frames along the time dimension and convert to tensor\n",
    "        frames = torch.stack(frames)  # Shape: (frames_per_video, 3, 224, 224)\n",
    "        return frames, label"
   ]
  },
  {
   "cell_type": "code",
   "execution_count": null,
   "metadata": {},
   "outputs": [],
   "source": [
    "transform = transform.Compose([\n",
    "    transform.ToTensor(),  # Convert image to PyTorch tensor\n",
    "    transform.Normalize(mean=[0.485, 0.456, 0.406],\n",
    "                         std=[0.229, 0.224, 0.225])  # Normalize using ImageNet mean and std\n",
    "])"
   ]
  }
 ],
 "metadata": {
  "kernelspec": {
   "display_name": "Python 3",
   "language": "python",
   "name": "python3"
  },
  "language_info": {
   "codemirror_mode": {
    "name": "ipython",
    "version": 3
   },
   "file_extension": ".py",
   "mimetype": "text/x-python",
   "name": "python",
   "nbconvert_exporter": "python",
   "pygments_lexer": "ipython3",
   "version": "3.12.0"
  }
 },
 "nbformat": 4,
 "nbformat_minor": 2
}
