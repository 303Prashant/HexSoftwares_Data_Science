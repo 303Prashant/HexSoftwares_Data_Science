{
 "cells": [
  {
   "cell_type": "code",
   "execution_count": 1,
   "metadata": {},
   "outputs": [
    {
     "name": "stdout",
     "output_type": "stream",
     "text": [
      "2.2.2\n"
     ]
    }
   ],
   "source": [
    "import pandas as pd\n",
    "import numpy as np\n",
    "print(pd.__version__)"
   ]
  },
  {
   "cell_type": "code",
   "execution_count": 2,
   "metadata": {},
   "outputs": [
    {
     "name": "stdout",
     "output_type": "stream",
     "text": [
      "    0   1\n",
      "a  89  90\n",
      "b  88  87\n"
     ]
    }
   ],
   "source": [
    "a = [[89,90],[88,87]]\n",
    "var= pd.DataFrame(a, index=['a','b'])\n",
    "print(var)"
   ]
  },
  {
   "cell_type": "code",
   "execution_count": 3,
   "metadata": {},
   "outputs": [
    {
     "name": "stdout",
     "output_type": "stream",
     "text": [
      "      Name   Hindi   English   Maths  total  Marks Grade\n",
      "0    Aman       92        89      87    268  89.33     A\n",
      "1     Raj       78        88      87    253  84.33     B\n",
      "2  Rishabh      76        78      74    228  76.00     C\n"
     ]
    }
   ],
   "source": [
    "df = pd.read_csv('pkm.csv')\n",
    "df['total'] = df[' Hindi']+df[' English']+df[' Maths']\n",
    "# per1= round((df.total[0]/300)*100)\n",
    "# per2= round((df.total[1]/300)*100)\n",
    "# per3= round((df.total[2]/300)*100)\n",
    "df['Marks'] = (df['total']/300)*100\n",
    "df['Marks'] = df['Marks'].round(2)\n",
    "\n",
    "def grade(Marks):\n",
    "    if Marks >=85:\n",
    "        return 'A'\n",
    "    elif Marks >=80:\n",
    "        return 'B'\n",
    "    elif Marks >= 70:\n",
    "        return 'C'\n",
    "    else:\n",
    "        return 'D'\n",
    "    \n",
    "df['Grade'] = df['Marks'].apply(grade)   \n",
    "print(df)\n"
   ]
  },
  {
   "cell_type": "code",
   "execution_count": 36,
   "metadata": {},
   "outputs": [
    {
     "name": "stdout",
     "output_type": "stream",
     "text": [
      "Name        subham\n",
      "Maths         88.0\n",
      "Python        87.0\n",
      "Compiler      89.0\n",
      "dtype: object\n",
      "       Name Maths  Python  Compiler\n",
      "1   Prabhat  64.0    67.0      83.0\n",
      "8    akabar  45.0    32.0      23.0\n",
      "5     akhil    63    53.0      23.0\n",
      "0   anikesh  78.0    87.0      68.0\n",
      "5   jagdish  54.0    38.0      64.0\n",
      "3     jaggu    87    76.0      42.0\n",
      "7     laden  88.0    34.0      54.0\n",
      "1  prashant    56    78.0      89.0\n",
      "0    subham    67    78.0      82.0\n"
     ]
    }
   ],
   "source": [
    "\n",
    "df = pd.read_excel('C:\\\\Users\\\\prash\\\\Documents\\\\class.xlsx')\n",
    "df_2 = pd.read_excel('C:\\\\Users\\\\prash\\\\Documents\\\\class.xlsx', sheet_name='sec2')\n",
    "# print(df_2)\n",
    "total = pd.concat([df,df_2])\n",
    "remove= total.dropna()\n",
    "# print(total)\n",
    "remove = remove.drop_duplicates()\n",
    "remove =  remove.sort_values(by=['Name'])\n",
    "a = remove.max()\n",
    "print(a)\n",
    "\n",
    "print(remove)\n",
    "# print(df)"
   ]
  },
  {
   "cell_type": "code",
   "execution_count": null,
   "metadata": {},
   "outputs": [],
   "source": [
    "# "
   ]
  },
  {
   "cell_type": "code",
   "execution_count": null,
   "metadata": {},
   "outputs": [],
   "source": []
  }
 ],
 "metadata": {
  "kernelspec": {
   "display_name": "Python 3",
   "language": "python",
   "name": "python3"
  },
  "language_info": {
   "codemirror_mode": {
    "name": "ipython",
    "version": 3
   },
   "file_extension": ".py",
   "mimetype": "text/x-python",
   "name": "python",
   "nbconvert_exporter": "python",
   "pygments_lexer": "ipython3",
   "version": "3.12.0"
  }
 },
 "nbformat": 4,
 "nbformat_minor": 2
}
