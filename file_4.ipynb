{
 "cells": [
  {
   "cell_type": "markdown",
   "metadata": {},
   "source": [
    "# working with image in pytorch "
   ]
  },
  {
   "cell_type": "code",
   "execution_count": 1,
   "metadata": {},
   "outputs": [],
   "source": [
    "import numpy\n",
    "import torch\n",
    "import torchvision\n",
    "from torchvision.datasets import MNIST"
   ]
  },
  {
   "cell_type": "code",
   "execution_count": 2,
   "metadata": {},
   "outputs": [],
   "source": [
    "# download training datasets\n",
    "dataset= MNIST(root='data/', download=True)"
   ]
  },
  {
   "cell_type": "code",
   "execution_count": 3,
   "metadata": {},
   "outputs": [
    {
     "data": {
      "text/plain": [
       "60000"
      ]
     },
     "execution_count": 3,
     "metadata": {},
     "output_type": "execute_result"
    }
   ],
   "source": [
    "len(dataset)"
   ]
  },
  {
   "cell_type": "markdown",
   "metadata": {},
   "source": [
    "The dataset has 60,000 images that we'll use to train the model. There is also an additional test set of 10,000 images used for evaluating models and reporting metrics in papers and reports. We can create the test dataset using the MNIST class by passing train=False to the constructor."
   ]
  },
  {
   "cell_type": "code",
   "execution_count": 4,
   "metadata": {},
   "outputs": [
    {
     "data": {
      "text/plain": [
       "10000"
      ]
     },
     "execution_count": 4,
     "metadata": {},
     "output_type": "execute_result"
    }
   ],
   "source": [
    "test_dataset= MNIST(root='data/', train=False)\n",
    "len(test_dataset)"
   ]
  },
  {
   "cell_type": "markdown",
   "metadata": {},
   "source": [
    "lets  take sample element from datasets"
   ]
  },
  {
   "cell_type": "code",
   "execution_count": 5,
   "metadata": {},
   "outputs": [
    {
     "data": {
      "text/plain": [
       "(<PIL.Image.Image image mode=L size=28x28>, 5)"
      ]
     },
     "execution_count": 5,
     "metadata": {},
     "output_type": "execute_result"
    }
   ],
   "source": [
    "dataset[0]"
   ]
  },
  {
   "cell_type": "markdown",
   "metadata": {},
   "source": [
    "It's a pair, consisting of a 28x28px image and a label. The image is an object of the class PIL.Image.Image, which is a part of the Python imaging library Pillow. We can view the image within Jupyter using matplotlib, the de-facto plotting and graphing library for data science in Python"
   ]
  },
  {
   "cell_type": "code",
   "execution_count": 6,
   "metadata": {},
   "outputs": [],
   "source": [
    "import matplotlib.pyplot as plt\n",
    "%matplotlib inline"
   ]
  },
  {
   "cell_type": "markdown",
   "metadata": {},
   "source": [
    "Let's look at a couple of images from the dataset"
   ]
  },
  {
   "cell_type": "code",
   "execution_count": 7,
   "metadata": {},
   "outputs": [
    {
     "name": "stdout",
     "output_type": "stream",
     "text": [
      "Label: 1\n"
     ]
    },
    {
     "data": {
      "image/png": "[encoded data removed]",
      "text/plain": [
       "<Figure size 640x480 with 1 Axes>"
      ]
     },
     "metadata": {},
     "output_type": "display_data"
    }
   ],
   "source": [
    "image, label = dataset[3]\n",
    "plt.imshow(image, cmap='gray')\n",
    "print('Label:', label)"
   ]
  },
  {
   "cell_type": "markdown",
   "metadata": {},
   "source": [
    "pytorch does'nt know how to work with images so we can use the torchvision to convert the image into tensors we can do it by transform We'll use the ToTensor transform to convert images into PyTorch tensors.\n"
   ]
  },
  {
   "cell_type": "code",
   "execution_count": 8,
   "metadata": {},
   "outputs": [],
   "source": [
    "import torchvision.transforms as transforms"
   ]
  },
  {
   "cell_type": "code",
   "execution_count": 9,
   "metadata": {},
   "outputs": [],
   "source": [
    "# mnist datasets (image and label)\n",
    "dataset=MNIST(root='data/',\n",
    "              train=True,\n",
    "              transform=transforms.ToTensor())"
   ]
  },
  {
   "cell_type": "markdown",
   "metadata": {},
   "source": [
    "Now, The image is now converted to a 1x28x28 tensor. The first dimension tracks color channels. The second and third dimensions represent pixels along the height and width of the image, respectively. The values range from 0 to 1, with 0 representing black, 1 white, and the values in between different shades of grey."
   ]
  },
  {
   "cell_type": "code",
   "execution_count": 10,
   "metadata": {},
   "outputs": [
    {
     "name": "stdout",
     "output_type": "stream",
     "text": [
      "tensor([[0.0039, 0.6039, 0.9922, 0.3529, 0.0000],\n",
      "        [0.0000, 0.5451, 0.9922, 0.7451, 0.0078],\n",
      "        [0.0000, 0.0431, 0.7451, 0.9922, 0.2745],\n",
      "        [0.0000, 0.0000, 0.1373, 0.9451, 0.8824],\n",
      "        [0.0000, 0.0000, 0.0000, 0.3176, 0.9412]])\n",
      "tensor(1.) tensor(0.)\n"
     ]
    }
   ],
   "source": [
    "img_tensor, label=dataset[0]\n",
    "print(img_tensor[0, 10:15,10:15])\n",
    "print(torch.max(img_tensor), torch.min(img_tensor))"
   ]
  },
  {
   "cell_type": "markdown",
   "metadata": {},
   "source": [
    "# While building real-world machine learning models, it is quite common to split the dataset into three parts:\n",
    "training set , validation set , test set So from MNIST we must manually split the 60,000 images into training and validation datasets. Let's set aside 10,000 randomly chosen images for validation. We can do this using the 'random_spilt' method from PyTorch."
   ]
  },
  {
   "cell_type": "code",
   "execution_count": 11,
   "metadata": {},
   "outputs": [
    {
     "data": {
      "text/plain": [
       "(50000, 10000)"
      ]
     },
     "execution_count": 11,
     "metadata": {},
     "output_type": "execute_result"
    }
   ],
   "source": [
    "from torch.utils.data import random_split\n",
    "train_ds, valid_ds = random_split(dataset ,[50000, 10000])\n",
    "len(train_ds), len(valid_ds)"
   ]
  },
  {
   "cell_type": "code",
   "execution_count": 12,
   "metadata": {},
   "outputs": [],
   "source": [
    "from torch.utils.data import DataLoader\n",
    "batch_size=128\n",
    "train_loader=DataLoader(train_ds,batch_size,shuffle=True)\n",
    "valid_loader= DataLoader(valid_ds, batch_size)"
   ]
  },
  {
   "cell_type": "code",
   "execution_count": 13,
   "metadata": {},
   "outputs": [
    {
     "name": "stdout",
     "output_type": "stream",
     "text": [
      "torch.Size([10])\n"
     ]
    },
    {
     "data": {
      "text/plain": [
       "Parameter containing:\n",
       "tensor([-0.0107,  0.0275, -0.0257,  0.0260, -0.0108,  0.0188, -0.0262,  0.0325,\n",
       "        -0.0244,  0.0066], requires_grad=True)"
      ]
     },
     "execution_count": 13,
     "metadata": {},
     "output_type": "execute_result"
    }
   ],
   "source": [
    "import torch.nn as nn\n",
    "input_size=28*28\n",
    "num_size=10\n",
    "\n",
    "#logistic regression model\n",
    "model= nn.Linear(input_size,num_size)\n",
    "\n",
    "print(model.bias.shape)\n",
    "model.bias"
   ]
  },
  {
   "cell_type": "code",
   "execution_count": 14,
   "metadata": {},
   "outputs": [
    {
     "name": "stdout",
     "output_type": "stream",
     "text": [
      "torch.Size([10, 784])\n"
     ]
    },
    {
     "data": {
      "text/plain": [
       "Parameter containing:\n",
       "tensor([[-0.0188,  0.0087,  0.0067,  ..., -0.0051, -0.0159, -0.0242],\n",
       "        [ 0.0015,  0.0145, -0.0227,  ...,  0.0162,  0.0216, -0.0199],\n",
       "        [-0.0263,  0.0306,  0.0216,  ...,  0.0244, -0.0255, -0.0272],\n",
       "        ...,\n",
       "        [-0.0258,  0.0294, -0.0088,  ...,  0.0256,  0.0098, -0.0310],\n",
       "        [-0.0086,  0.0244, -0.0048,  ..., -0.0177, -0.0280,  0.0252],\n",
       "        [-0.0037, -0.0032, -0.0319,  ..., -0.0253, -0.0328, -0.0310]],\n",
       "       requires_grad=True)"
      ]
     },
     "execution_count": 14,
     "metadata": {},
     "output_type": "execute_result"
    }
   ],
   "source": [
    "print(model.weight.shape)\n",
    "model.weight"
   ]
  },
  {
   "cell_type": "code",
   "execution_count": 15,
   "metadata": {},
   "outputs": [
    {
     "name": "stdout",
     "output_type": "stream",
     "text": [
      "tensor([7, 2, 7, 1, 4, 8, 4, 2, 2, 5, 1, 8, 8, 1, 2, 6, 7, 0, 2, 7, 6, 4, 2, 9,\n",
      "        4, 0, 9, 5, 1, 4, 6, 1, 3, 2, 5, 1, 4, 8, 9, 8, 4, 7, 3, 2, 9, 2, 4, 4,\n",
      "        9, 6, 7, 4, 5, 6, 0, 7, 4, 4, 2, 0, 6, 9, 9, 4, 6, 5, 7, 5, 6, 2, 9, 2,\n",
      "        8, 4, 4, 9, 6, 8, 8, 7, 8, 1, 1, 2, 6, 4, 5, 8, 1, 2, 7, 4, 5, 9, 7, 3,\n",
      "        7, 9, 0, 2, 6, 4, 8, 6, 4, 2, 9, 4, 7, 0, 5, 4, 8, 6, 1, 4, 7, 4, 4, 6,\n",
      "        1, 3, 6, 1, 9, 7, 3, 9])\n",
      "torch.Size([128, 1, 28, 28])\n"
     ]
    }
   ],
   "source": [
    "for images, labels in train_loader:\n",
    "    print(labels)\n",
    "    print(images.shape)\n",
    "    break"
   ]
  },
  {
   "cell_type": "code",
   "execution_count": 16,
   "metadata": {},
   "outputs": [
    {
     "data": {
      "text/plain": [
       "torch.Size([128, 1, 28, 28])"
      ]
     },
     "execution_count": 16,
     "metadata": {},
     "output_type": "execute_result"
    }
   ],
   "source": [
    "images.shape"
   ]
  },
  {
   "cell_type": "code",
   "execution_count": 17,
   "metadata": {},
   "outputs": [
    {
     "data": {
      "text/plain": [
       "torch.Size([128, 784])"
      ]
     },
     "execution_count": 17,
     "metadata": {},
     "output_type": "execute_result"
    }
   ],
   "source": [
    "#Our images are of the shape 1x28x28, but we need them to be vectors of size 784, i.e., we need to flatten them\n",
    "images.reshape(128,784).shape"
   ]
  },
  {
   "cell_type": "code",
   "execution_count": 18,
   "metadata": {},
   "outputs": [],
   "source": [
    "# to define a custom model\n",
    "class MnistModel(nn.Module):\n",
    "    def __init__(self):\n",
    "        super().__init__()\n",
    "        self.linear= nn.Linear(input_size, num_size)\n",
    "\n",
    "    def forward(self, xb): # their is only use this 'forward' buildin function \n",
    "        xb= xb.reshape(-1, 784)\n",
    "        out= self.linear(xb)\n",
    "        return out\n",
    "\n",
    "model= MnistModel()    \n"
   ]
  },
  {
   "cell_type": "code",
   "execution_count": 19,
   "metadata": {},
   "outputs": [
    {
     "name": "stdout",
     "output_type": "stream",
     "text": [
      "torch.Size([10, 784]) torch.Size([10])\n"
     ]
    },
    {
     "data": {
      "text/plain": [
       "[Parameter containing:\n",
       " tensor([[ 0.0097,  0.0168,  0.0163,  ..., -0.0099, -0.0131, -0.0211],\n",
       "         [ 0.0353, -0.0326, -0.0292,  ...,  0.0121,  0.0198,  0.0093],\n",
       "         [-0.0062, -0.0326,  0.0098,  ..., -0.0272,  0.0216, -0.0317],\n",
       "         ...,\n",
       "         [-0.0255, -0.0156, -0.0173,  ...,  0.0251, -0.0143,  0.0303],\n",
       "         [-0.0009, -0.0049, -0.0101,  ..., -0.0299,  0.0090,  0.0141],\n",
       "         [-0.0006,  0.0017, -0.0295,  ..., -0.0222, -0.0307,  0.0246]],\n",
       "        requires_grad=True),\n",
       " Parameter containing:\n",
       " tensor([-0.0018,  0.0190, -0.0251, -0.0136,  0.0086,  0.0072,  0.0158, -0.0307,\n",
       "          0.0145,  0.0033], requires_grad=True)]"
      ]
     },
     "execution_count": 19,
     "metadata": {},
     "output_type": "execute_result"
    }
   ],
   "source": [
    "\n",
    "print(model.linear.weight.shape, model.linear.bias.shape)\n",
    "list(model.parameters())"
   ]
  },
  {
   "cell_type": "code",
   "execution_count": 20,
   "metadata": {},
   "outputs": [
    {
     "name": "stdout",
     "output_type": "stream",
     "text": [
      "torch.Size([128, 1, 28, 28])\n",
      "outputs.shape :  torch.Size([128, 10])\n",
      "Sample outputs :\n",
      " tensor([[ 0.0347, -0.0332, -0.0775,  0.0557,  0.0737,  0.0764,  0.3880,  0.1335,\n",
      "         -0.0343,  0.0404],\n",
      "        [ 0.1199,  0.2521,  0.4634,  0.3923, -0.3587,  0.0998, -0.0517, -0.2179,\n",
      "         -0.0625,  0.0166]])\n"
     ]
    }
   ],
   "source": [
    "#We can use our new custom model in the same way as before.\n",
    "#To convert the output rows into probabilities, we use the softmax function, which has the following formula:\n",
    "for images, labels in train_loader:\n",
    "    print(images.shape)\n",
    "    outputs = model(images) \n",
    "    break\n",
    "print('outputs.shape : ', outputs.shape)\n",
    "print('Sample outputs :\\n', outputs[:2].data)"
   ]
  },
  {
   "cell_type": "code",
   "execution_count": 21,
   "metadata": {},
   "outputs": [
    {
     "name": "stdout",
     "output_type": "stream",
     "text": [
      "sample probs are : \n",
      "  tensor([[0.0962, 0.0899, 0.0860, 0.0982, 0.1000, 0.1003, 0.1369, 0.1062, 0.0898,\n",
      "         0.0967],\n",
      "        [0.1025, 0.1170, 0.1445, 0.1346, 0.0635, 0.1005, 0.0864, 0.0731, 0.0854,\n",
      "         0.0925]])\n",
      "sumRow1 : 1.0\n",
      "sumRow2 : 1.0\n"
     ]
    }
   ],
   "source": [
    "# To convert the output rows into probabilities, we use the softmax function, which has the following formula\n",
    "import torch.nn.functional as f\n",
    "# apply softmax for each of the output rows\n",
    "probs= f.softmax(outputs, dim=1)\n",
    "\n",
    "# for sample probabilities\n",
    "print('sample probs are : \\n ', probs[:2].data)\n",
    "\n",
    "# add up the probabilites of outputs row\n",
    "print('sumRow1 :',torch.sum(probs[0]).item())\n",
    "print('sumRow2 :',torch.sum(probs[1]).item())"
   ]
  },
  {
   "cell_type": "markdown",
   "metadata": {},
   "source": [
    "Finally, we can determine the predicted label for each image by simply choosing the index of the element with the highest probability in each output row. We can do this using torch.max, which returns each row's largest element and the corresponding index."
   ]
  },
  {
   "cell_type": "code",
   "execution_count": 22,
   "metadata": {},
   "outputs": [
    {
     "name": "stdout",
     "output_type": "stream",
     "text": [
      "tensor([6, 2, 2, 2, 2, 7, 2, 6, 9, 6, 6, 2, 9, 2, 6, 5, 3, 5, 3, 5, 8, 2, 2, 8,\n",
      "        9, 0, 9, 3, 3, 1, 5, 9, 8, 2, 1, 8, 2, 3, 2, 1, 5, 1, 6, 2, 6, 3, 1, 1,\n",
      "        5, 6, 1, 8, 2, 4, 4, 3, 5, 2, 6, 0, 4, 8, 6, 1, 1, 3, 2, 2, 3, 6, 6, 5,\n",
      "        2, 2, 0, 6, 1, 2, 2, 9, 2, 5, 2, 1, 2, 0, 5, 4, 1, 8, 3, 1, 1, 2, 2, 6,\n",
      "        1, 3, 8, 2, 6, 6, 0, 8, 6, 9, 3, 1, 1, 5, 1, 2, 2, 4, 9, 2, 8, 2, 6, 3,\n",
      "        2, 8, 2, 6, 3, 6, 2, 0])\n",
      "tensor([0.1369, 0.1445, 0.1205, 0.1164, 0.1271, 0.1335, 0.1274, 0.1172, 0.1330,\n",
      "        0.1383, 0.1416, 0.1178, 0.1183, 0.1467, 0.1358, 0.1259, 0.1193, 0.1446,\n",
      "        0.1282, 0.1248, 0.1180, 0.1244, 0.1132, 0.1314, 0.1335, 0.1262, 0.1228,\n",
      "        0.1356, 0.1311, 0.1401, 0.1167, 0.1212, 0.1217, 0.1143, 0.1263, 0.1165,\n",
      "        0.1625, 0.1312, 0.1277, 0.1292, 0.1431, 0.1131, 0.1166, 0.1221, 0.1232,\n",
      "        0.1478, 0.1177, 0.1136, 0.1381, 0.1273, 0.1141, 0.1423, 0.1337, 0.1171,\n",
      "        0.1193, 0.1206, 0.1362, 0.1301, 0.1096, 0.1146, 0.1177, 0.1259, 0.1173,\n",
      "        0.1165, 0.1417, 0.1246, 0.1244, 0.1197, 0.1230, 0.1190, 0.1298, 0.1236,\n",
      "        0.1316, 0.1278, 0.1165, 0.1199, 0.1222, 0.1230, 0.1113, 0.1306, 0.1185,\n",
      "        0.1288, 0.1299, 0.1130, 0.1372, 0.1188, 0.1159, 0.1094, 0.1156, 0.1251,\n",
      "        0.1348, 0.1289, 0.1226, 0.1218, 0.1232, 0.1207, 0.1166, 0.1370, 0.1239,\n",
      "        0.1240, 0.1175, 0.1122, 0.1448, 0.1240, 0.1259, 0.1138, 0.1364, 0.1213,\n",
      "        0.1181, 0.1377, 0.1286, 0.1399, 0.1342, 0.1136, 0.1128, 0.1211, 0.1155,\n",
      "        0.1433, 0.1193, 0.1156, 0.1558, 0.1533, 0.1262, 0.1096, 0.1216, 0.1258,\n",
      "        0.1214, 0.1242], grad_fn=<MaxBackward0>)\n"
     ]
    }
   ],
   "source": [
    "max_probs, predict=torch.max(probs, dim=1)\n",
    "print(predict)\n",
    "print(max_probs)"
   ]
  },
  {
   "cell_type": "code",
   "execution_count": 23,
   "metadata": {},
   "outputs": [
    {
     "data": {
      "text/plain": [
       "tensor([2, 3, 0, 9, 3, 8, 9, 7, 9, 1, 2, 5, 4, 8, 1, 2, 1, 3, 0, 2, 7, 3, 5, 7,\n",
       "        0, 4, 4, 5, 0, 4, 5, 6, 7, 8, 3, 7, 8, 3, 6, 4, 0, 5, 1, 5, 8, 5, 9, 5,\n",
       "        0, 9, 9, 7, 6, 9, 1, 5, 3, 2, 5, 6, 9, 9, 5, 8, 9, 7, 3, 9, 0, 1, 1, 9,\n",
       "        2, 5, 5, 1, 4, 9, 0, 0, 8, 5, 0, 4, 3, 9, 0, 6, 9, 4, 3, 4, 7, 0, 6, 2,\n",
       "        1, 2, 6, 2, 4, 5, 6, 7, 1, 7, 3, 4, 4, 3, 4, 4, 0, 0, 5, 5, 9, 0, 1, 1,\n",
       "        8, 2, 5, 4, 0, 2, 8, 4])"
      ]
     },
     "execution_count": 23,
     "metadata": {},
     "output_type": "execute_result"
    }
   ],
   "source": [
    "#  Let's compare them with the actual labels.\n",
    "labels"
   ]
  },
  {
   "cell_type": "markdown",
   "metadata": {},
   "source": [
    " predicted labels are different from the actual labels. That's because we have started with randomly initialized weights and biases. We need to train the model, i.e., adjust the weights using gradient descent to make better predictions.\n",
    " # loss function\n",
    " Just as with linear regression, we need a way to evaluate how well our model is performing. A natural way to do this would be to find the percentage of labels that were predicted correctly,"
   ]
  },
  {
   "cell_type": "code",
   "execution_count": 24,
   "metadata": {},
   "outputs": [
    {
     "data": {
      "text/plain": [
       "10"
      ]
     },
     "execution_count": 24,
     "metadata": {},
     "output_type": "execute_result"
    }
   ],
   "source": [
    "# The == operator performs an element-wise comparison of \n",
    "# two tensors with the same shape and returns a tensor of the \n",
    "# same shape, containing True for equal elements and False for unequal elements\n",
    "torch.sum(predict==labels).item()\n"
   ]
  },
  {
   "cell_type": "code",
   "execution_count": 25,
   "metadata": {},
   "outputs": [
    {
     "data": {
      "text/plain": [
       "tensor(0.0781)"
      ]
     },
     "execution_count": 25,
     "metadata": {},
     "output_type": "execute_result"
    }
   ],
   "source": [
    "def accuracy(outputs, labels):\n",
    "    _, predict=torch.max(outputs, dim=1)\n",
    "    return torch.tensor(torch.sum(predict==labels).item()/len(predict))\n",
    "\n",
    "accuracy(outputs, labels)"
   ]
  },
  {
   "cell_type": "markdown",
   "metadata": {},
   "source": [
    "Accuracy is an excellent way for us (humans) to evaluate the model. However, we can't use it as a loss function for optimizing our model using gradient descent for the following reasons:\n",
    "\n",
    "It's not a differentiable function. torch.max and == are both non-continuous and non-differentiable operations, so we can't use the accuracy for computing gradients w.r.t the weights and biases.\n",
    "\n",
    "It doesn't take into account the actual probabilities predicted by the model, so it can't provide sufficient feedback for incremental improvements.\n",
    "\n",
    "For these reasons, accuracy is often used as an evaluation metric for classification, but not as a loss function. A commonly used loss function for classification problems is the cross-entropy,"
   ]
  },
  {
   "cell_type": "code",
   "execution_count": 26,
   "metadata": {},
   "outputs": [
    {
     "name": "stdout",
     "output_type": "stream",
     "text": [
      "tensor(2.3206, grad_fn=<NllLossBackward0>)\n"
     ]
    }
   ],
   "source": [
    "loss_func= f.cross_entropy\n",
    "loss=loss_func(outputs, labels)\n",
    "print(loss)"
   ]
  },
  {
   "cell_type": "markdown",
   "metadata": {},
   "source": [
    "We know that cross-entropy is the negative logarithm of the predicted probability of the correct label averaged over all training samples. Therefore, one way to interpret the resulting number e.g. 2.23 is look at e^-2.23 which is around 0.1 as the predicted probability of the correct label, on average. The lower the loss, The better the model"
   ]
  },
  {
   "cell_type": "code",
   "execution_count": null,
   "metadata": {},
   "outputs": [],
   "source": [
    "def fit(epochs, lr, model, train_loader, val_loader, opt_func=torch.optim.SGD):\n",
    "    optimizer = opt_func(model.parameters(), lr)\n",
    "    history = [] # for recording epoch-wise results\n",
    "    \n",
    "    for epoch in range(epochs):\n",
    "        \n",
    "        # Training Phase \n",
    "        for batch in train_loader:\n",
    "            loss = model.training_step(batch)\n",
    "            loss.backward()\n",
    "            optimizer.step()\n",
    "            optimizer.zero_grad()\n",
    "        \n",
    "        # Validation phase\n",
    "        result = evaluate(model, val_loader)\n",
    "        model.epoch_end(epoch, result)\n",
    "        history.append(result)\n",
    "\n",
    "    return history"
   ]
  },
  {
   "cell_type": "markdown",
   "metadata": {},
   "source": [
    "The fit function records the validation loss and metric from each epoch. It returns a history of the training, useful for debugging & visualization.\n",
    "Configurations like batch size, learning rate, etc. (called hyperparameters), need to picked in advance while training machine learning models. Choosing the right hyperparameters is critical for training a reasonably accurate model within a reasonable amount of time. "
   ]
  },
  {
   "cell_type": "code",
   "execution_count": 27,
   "metadata": {},
   "outputs": [],
   "source": [
    "l1 = [1, 2, 3, 4, 5]\n"
   ]
  },
  {
   "cell_type": "code",
   "execution_count": null,
   "metadata": {},
   "outputs": [],
   "source": [
    "def evaluate(model, val_loader):\n",
    "    outputs = [model.validation_step(batch) for batch in val_loader]\n",
    "    return model.validation_epoch_end(outputs)"
   ]
  },
  {
   "cell_type": "code",
   "execution_count": 29,
   "metadata": {},
   "outputs": [],
   "source": [
    "class MnistModel(nn.Module):\n",
    "    def __init__(self):\n",
    "        super().__init__()\n",
    "        self.linear = nn.Linear(input_size, num_size)\n",
    "        \n",
    "    def forward(self, xb):\n",
    "        xb = xb.reshape(-1, 784)\n",
    "        out = self.linear(xb)\n",
    "        return out\n",
    "    \n",
    "    def training_step(self, batch):\n",
    "        images, labels = batch \n",
    "        out = self(images)                  # Generate predictions\n",
    "        loss = F.cross_entropy(out, labels) # Calculate loss\n",
    "        return loss\n",
    "    \n",
    "    def validation_step(self, batch):\n",
    "        images, labels = batch \n",
    "        out = self(images)                    # Generate predictions\n",
    "        loss = F.cross_entropy(out, labels)   # Calculate loss\n",
    "        acc = accuracy(out, labels)           # Calculate accuracy\n",
    "        return {'val_loss': loss, 'val_acc': acc}\n",
    "        \n",
    "    def validation_epoch_end(self, outputs):\n",
    "        batch_losses = [x['val_loss'] for x in outputs]\n",
    "        epoch_loss = torch.stack(batch_losses).mean()   # Combine losses\n",
    "        batch_accs = [x['val_acc'] for x in outputs]\n",
    "        epoch_acc = torch.stack(batch_accs).mean()      # Combine accuracies\n",
    "        return {'val_loss': epoch_loss.item(), 'val_acc': epoch_acc.item()}\n",
    "    \n",
    "    def epoch_end(self, epoch, result):\n",
    "        print(\"Epoch [{}], val_loss: {:.4f}, val_acc: {:.4f}\".format(epoch, result['val_loss'], result['val_acc']))\n",
    "    \n",
    "model = MnistModel()"
   ]
  },
  {
   "cell_type": "code",
   "execution_count": 30,
   "metadata": {},
   "outputs": [
    {
     "ename": "NameError",
     "evalue": "name 'evaluate' is not defined",
     "output_type": "error",
     "traceback": [
      "\u001b[1;31m---------------------------------------------------------------------------\u001b[0m",
      "\u001b[1;31mNameError\u001b[0m                                 Traceback (most recent call last)",
      "Cell \u001b[1;32mIn[30], line 1\u001b[0m\n\u001b[1;32m----> 1\u001b[0m result0 \u001b[38;5;241m=\u001b[39m \u001b[43mevaluate\u001b[49m(model, val_loader)\n\u001b[0;32m      2\u001b[0m result0\n",
      "\u001b[1;31mNameError\u001b[0m: name 'evaluate' is not defined"
     ]
    }
   ],
   "source": [
    "result0 = evaluate(model, val_loader)\n",
    "result0"
   ]
  },
  {
   "cell_type": "markdown",
   "metadata": {},
   "source": [
    "The initial accuracy is around 10%, which one might expect from a randomly initialized model (since it has a 1 in 10 chance of getting a label right by guessing randomly)"
   ]
  },
  {
   "cell_type": "code",
   "execution_count": null,
   "metadata": {},
   "outputs": [],
   "source": [
    "history1 = fit(5, 0.001, model, train_loader, val_loader)"
   ]
  }
 ],
 "metadata": {
  "kernelspec": {
   "display_name": "Python 3",
   "language": "python",
   "name": "python3"
  },
  "language_info": {
   "codemirror_mode": {
    "name": "ipython",
    "version": 3
   },
   "file_extension": ".py",
   "mimetype": "text/x-python",
   "name": "python",
   "nbconvert_exporter": "python",
   "pygments_lexer": "ipython3",
   "version": "3.12.0"
  }
 },
 "nbformat": 4,
 "nbformat_minor": 2
}
